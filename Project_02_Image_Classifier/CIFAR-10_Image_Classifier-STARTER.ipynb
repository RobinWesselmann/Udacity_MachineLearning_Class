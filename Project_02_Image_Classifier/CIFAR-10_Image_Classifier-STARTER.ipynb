{
 "cells": [
  {
   "cell_type": "markdown",
   "metadata": {},
   "source": [
    "# Introduction\n",
    "\n",
    "In this project, you will build a neural network of your own design to evaluate the CIFAR-10 dataset.\n",
    "Our target accuracy is 70%, but any accuracy over 50% is a great start.\n",
    "Some of the benchmark results on CIFAR-10 include:\n",
    "\n",
    "78.9% Accuracy | [Deep Belief Networks; Krizhevsky, 2010](https://www.cs.toronto.edu/~kriz/conv-cifar10-aug2010.pdf)\n",
    "\n",
    "90.6% Accuracy | [Maxout Networks; Goodfellow et al., 2013](https://arxiv.org/pdf/1302.4389.pdf)\n",
    "\n",
    "96.0% Accuracy | [Wide Residual Networks; Zagoruyko et al., 2016](https://arxiv.org/pdf/1605.07146.pdf)\n",
    "\n",
    "99.0% Accuracy | [GPipe; Huang et al., 2018](https://arxiv.org/pdf/1811.06965.pdf)\n",
    "\n",
    "98.5% Accuracy | [Rethinking Recurrent Neural Networks and other Improvements for ImageClassification; Nguyen et al., 2020](https://arxiv.org/pdf/2007.15161.pdf)\n",
    "\n",
    "Research with this dataset is ongoing. Notably, many of these networks are quite large and quite expensive to train. \n",
    "\n",
    "## Imports"
   ]
  },
  {
   "cell_type": "code",
   "execution_count": 1,
   "metadata": {},
   "outputs": [],
   "source": [
    "## This cell contains the essential imports you will need – DO NOT CHANGE THE CONTENTS! ##\n",
    "import torch\n",
    "import torch.nn as nn\n",
    "import torch.nn.functional as F\n",
    "import torch.optim as optim\n",
    "import torchvision\n",
    "import torchvision.transforms as transforms\n",
    "from torch.utils.data import random_split\n",
    "import matplotlib.pyplot as plt\n",
    "\n",
    "import numpy as np\n",
    "import pickle"
   ]
  },
  {
   "cell_type": "markdown",
   "metadata": {},
   "source": [
    "## Load the Dataset\n",
    "\n",
    "Specify your transforms as a list first.\n",
    "The transforms module is already loaded as `transforms`.\n",
    "\n",
    "CIFAR-10 is fortunately included in the torchvision module.\n",
    "Then, you can create your dataset using the `CIFAR10` object from `torchvision.datasets` ([the documentation is available here](https://pytorch.org/docs/stable/torchvision/datasets.html#cifar)).\n",
    "Make sure to specify `download=True`! \n",
    "\n",
    "Once your dataset is created, you'll also need to define a `DataLoader` from the `torch.utils.data` module for both the train and the test set."
   ]
  },
  {
   "cell_type": "code",
   "execution_count": 4,
   "metadata": {},
   "outputs": [
    {
     "name": "stdout",
     "output_type": "stream",
     "text": [
      "Downloading https://www.cs.toronto.edu/~kriz/cifar-10-python.tar.gz to ./data/train\\cifar-10-python.tar.gz\n"
     ]
    },
    {
     "name": "stderr",
     "output_type": "stream",
     "text": [
      "100.0%\n"
     ]
    },
    {
     "name": "stdout",
     "output_type": "stream",
     "text": [
      "Extracting ./data/train\\cifar-10-python.tar.gz to ./data/train\n",
      "Downloading https://www.cs.toronto.edu/~kriz/cifar-10-python.tar.gz to ./data/test\\cifar-10-python.tar.gz\n"
     ]
    },
    {
     "name": "stderr",
     "output_type": "stream",
     "text": [
      "100.0%\n"
     ]
    },
    {
     "name": "stdout",
     "output_type": "stream",
     "text": [
      "Extracting ./data/test\\cifar-10-python.tar.gz to ./data/test\n"
     ]
    }
   ],
   "source": [
    "\"\"\"def unpickle(file):   \n",
    "    with open(file, 'rb') as fo:       \n",
    "        dict = pickle.load(fo, encoding='bytes')   \n",
    "        return dict\n",
    "\n",
    "def load_data(data_dir):\n",
    "    #load train\n",
    "    for i in range(1,6):\n",
    "        filename = data_dir + f\"data_batch_{i}\" \n",
    "        dictionary  =unpickle(filename)\n",
    "        x_data = dictionary[b\"data\"]\n",
    "        y_data = np.array(dictionary[b\"labels\"])\n",
    "\n",
    "        if == 1:\n",
    "            x_train = x_data\n",
    "            y_train = y_data\n",
    "        else:\n",
    "            x_train = np.concatenate((x_train, x_data), axis = 0)\n",
    "            y_train = np.concatenate((y_train, y_data), axis = 0)\n",
    "\n",
    "    #load test\n",
    "    filename = data_dir + \"test_batch\"\n",
    "    dictionary = unpickle(filename)\n",
    "    data = dictionary[b\"data\"]\n",
    "    x_test = data\n",
    "    y_test = np.array(dictionary[b\"labels\"])\n",
    "    return x_train, y_train, x_test, y_test\n",
    "    \"\"\"\n",
    "# Define transforms\n",
    "## YOUR CODE HERE ##\n",
    "train_transform = transforms.Compose([\n",
    "    transforms.RandomRotation(30),\n",
    "    transforms.RandomHorizontalFlip(),\n",
    "    transforms.ToTensor(),\n",
    "    transforms.Normalize([0.5,0.5,0.5], [0.5,0.5,0.5])\n",
    "])\n",
    "\n",
    "test_transform = transforms.Compose([\n",
    "    transforms.ToTensor(),\n",
    "    transforms.Normalize([0.5,0.5,0.5], [0.5,0.5,0.5])\n",
    "])\n",
    "\n",
    "# Create training set and define training dataloader\n",
    "#https://www.datascienceweekly.org/tutorials/cifar10-pytorch-load-cifar10-dataset-from-torchvision\n",
    "## YOUR CODE HERE ##\n",
    "first_run = True\n",
    "\n",
    "if first_run:\n",
    "    download_flag = True\n",
    "else:\n",
    "    download_flag = False\n",
    "\n",
    "#in the datasets library the ImageFolder module is already included\n",
    "cifar_trainset = torchvision.datasets.CIFAR10(root = \"./data/train\", train=True, download=download_flag, transform=train_transform)\n",
    "\n",
    "#split train data into train + val set\n",
    "train_size = int(0.8 * len(cifar_trainset))\n",
    "val_size = len(cifar_trainset) - train_size\n",
    "train_dataset, val_dataset = random_split(\n",
    "    dataset=cifar_trainset,\n",
    "    lengths=[train_size, val_size])\n",
    "\n",
    "trainloader = torch.utils.data.DataLoader(train_dataset, batch_size = 64, shuffle = True)\n",
    "val_set_loader = torch.utils.data.DataLoader(val_dataset, batch_size = 64, shuffle = False)\n",
    "\n",
    "# Create test set and define test dataloader\n",
    "## YOUR CODE HERE ##\n",
    "cifar_testset = torchvision.datasets.CIFAR10(root = \"./data/test\", train=False, download=download_flag, transform=test_transform)\n",
    "testloader = torch.utils.data.DataLoader(cifar_testset, batch_size = 64)\n",
    "\n",
    "# The 10 classes in the dataset\n",
    "classes = ('plane', 'car', 'bird', 'cat', 'deer', 'dog', 'frog', 'horse', 'ship', 'truck')"
   ]
  },
  {
   "cell_type": "code",
   "execution_count": 5,
   "metadata": {},
   "outputs": [
    {
     "name": "stderr",
     "output_type": "stream",
     "text": [
      "C:\\Users\\z635177\\AppData\\Local\\Temp\\ipykernel_23064\\2176215597.py:5: UserWarning: The use of `x.T` on tensors of dimension other than 2 to reverse their shape is deprecated and it will throw an error in a future release. Consider `x.mT` to transpose batches of matrices or `x.permute(*torch.arange(x.ndim - 1, -1, -1))` to reverse the dimensions of a tensor. (Triggered internally at C:\\actions-runner\\_work\\pytorch\\pytorch\\builder\\windows\\pytorch\\aten\\src\\ATen\\native\\TensorShape.cpp:3618.)\n",
      "  plt.imshow(image.squeeze().T, cmap=\"gray\")\n",
      "Clipping input data to the valid range for imshow with RGB data ([0..1] for floats or [0..255] for integers).\n"
     ]
    },
    {
     "data": {
      "text/plain": [
       "Text(0.5, 1.0, 'frog')"
      ]
     },
     "execution_count": 5,
     "metadata": {},
     "output_type": "execute_result"
    },
    {
     "data": {
      "image/png": "[encoded data removed]",
      "text/plain": [
       "<Figure size 900x900 with 1 Axes>"
      ]
     },
     "metadata": {},
     "output_type": "display_data"
    }
   ],
   "source": [
    "image, label = cifar_trainset[0]\n",
    "\n",
    "fig = plt.figure(figsize = (9,9))\n",
    "fig.add_subplot(1,1,1)\n",
    "plt.imshow(image.squeeze().T, cmap=\"gray\")\n",
    "plt.title(f\"{classes[label]}\")"
   ]
  },
  {
   "cell_type": "code",
   "execution_count": 6,
   "metadata": {},
   "outputs": [
    {
     "data": {
      "text/plain": [
       "<torch.utils.data.dataset.Subset at 0x257cda46790>"
      ]
     },
     "execution_count": 6,
     "metadata": {},
     "output_type": "execute_result"
    }
   ],
   "source": [
    "trainloader.dataset"
   ]
  },
  {
   "cell_type": "code",
   "execution_count": 7,
   "metadata": {},
   "outputs": [
    {
     "data": {
      "text/plain": [
       "Dataset CIFAR10\n",
       "    Number of datapoints: 10000\n",
       "    Root location: ./data/test\n",
       "    Split: Test\n",
       "    StandardTransform\n",
       "Transform: Compose(\n",
       "               ToTensor()\n",
       "               Normalize(mean=[0.5, 0.5, 0.5], std=[0.5, 0.5, 0.5])\n",
       "           )"
      ]
     },
     "execution_count": 7,
     "metadata": {},
     "output_type": "execute_result"
    }
   ],
   "source": [
    "testloader.dataset"
   ]
  },
  {
   "cell_type": "markdown",
   "metadata": {},
   "source": [
    "## Explore the Dataset\n",
    "Using matplotlib, numpy, and torch, explore the dimensions of your data.\n",
    "\n",
    "You can view images using the `show5` function defined below – it takes a data loader as an argument.\n",
    "Remember that normalized images will look really weird to you! You may want to try changing your transforms to view images.\n",
    "Typically using no transforms other than `toTensor()` works well for viewing – but not as well for training your network.\n",
    "If `show5` doesn't work, go back and check your code for creating your data loaders and your training/test sets."
   ]
  },
  {
   "cell_type": "code",
   "execution_count": 8,
   "metadata": {},
   "outputs": [],
   "source": [
    "def show5(img_loader):\n",
    "    dataiter = iter(img_loader)\n",
    "    \n",
    "    batch = next(dataiter)\n",
    "    labels = batch[1][0:5]\n",
    "    images = batch[0][0:5]\n",
    "    for i in range(5):\n",
    "        print(classes[labels[i]])\n",
    "    \n",
    "        image = images[i].numpy()\n",
    "        plt.imshow(image.T)\n",
    "        plt.show()"
   ]
  },
  {
   "cell_type": "code",
   "execution_count": 9,
   "metadata": {},
   "outputs": [
    {
     "name": "stderr",
     "output_type": "stream",
     "text": [
      "Clipping input data to the valid range for imshow with RGB data ([0..1] for floats or [0..255] for integers).\n"
     ]
    },
    {
     "name": "stdout",
     "output_type": "stream",
     "text": [
      "bird\n"
     ]
    },
    {
     "data": {
      "image/png": "[encoded data removed]",
      "text/plain": [
       "<Figure size 640x480 with 1 Axes>"
      ]
     },
     "metadata": {},
     "output_type": "display_data"
    },
    {
     "name": "stderr",
     "output_type": "stream",
     "text": [
      "Clipping input data to the valid range for imshow with RGB data ([0..1] for floats or [0..255] for integers).\n"
     ]
    },
    {
     "name": "stdout",
     "output_type": "stream",
     "text": [
      "deer\n"
     ]
    },
    {
     "data": {
      "image/png": "[encoded data removed]",
      "text/plain": [
       "<Figure size 640x480 with 1 Axes>"
      ]
     },
     "metadata": {},
     "output_type": "display_data"
    },
    {
     "name": "stderr",
     "output_type": "stream",
     "text": [
      "Clipping input data to the valid range for imshow with RGB data ([0..1] for floats or [0..255] for integers).\n"
     ]
    },
    {
     "name": "stdout",
     "output_type": "stream",
     "text": [
      "deer\n"
     ]
    },
    {
     "data": {
      "image/png": "[encoded data removed]",
      "text/plain": [
       "<Figure size 640x480 with 1 Axes>"
      ]
     },
     "metadata": {},
     "output_type": "display_data"
    },
    {
     "name": "stderr",
     "output_type": "stream",
     "text": [
      "Clipping input data to the valid range for imshow with RGB data ([0..1] for floats or [0..255] for integers).\n"
     ]
    },
    {
     "name": "stdout",
     "output_type": "stream",
     "text": [
      "deer\n"
     ]
    },
    {
     "data": {
      "image/png": "[encoded data removed]",
      "text/plain": [
       "<Figure size 640x480 with 1 Axes>"
      ]
     },
     "metadata": {},
     "output_type": "display_data"
    },
    {
     "name": "stderr",
     "output_type": "stream",
     "text": [
      "Clipping input data to the valid range for imshow with RGB data ([0..1] for floats or [0..255] for integers).\n"
     ]
    },
    {
     "name": "stdout",
     "output_type": "stream",
     "text": [
      "plane\n"
     ]
    },
    {
     "data": {
      "image/png": "[encoded data removed]",
      "text/plain": [
       "<Figure size 640x480 with 1 Axes>"
      ]
     },
     "metadata": {},
     "output_type": "display_data"
    }
   ],
   "source": [
    "# Explore data\n",
    "## YOUR CODE HERE ##\n",
    "show5(trainloader)\n"
   ]
  },
  {
   "cell_type": "markdown",
   "metadata": {},
   "source": [
    "## Build your Neural Network\n",
    "Using the layers in `torch.nn` (which has been imported as `nn`) and the `torch.nn.functional` module (imported as `F`), construct a neural network based on the parameters of the dataset. \n",
    "Feel free to construct a model of any architecture – feedforward, convolutional, or even something more advanced!"
   ]
  },
  {
   "cell_type": "code",
   "execution_count": 10,
   "metadata": {},
   "outputs": [],
   "source": [
    "## YOUR CODE HERE ##\n",
    "class neural_net(nn.Module):\n",
    "\n",
    "    def __init__(self):\n",
    "\n",
    "        super(neural_net, self).__init__()\n",
    "        #conv mit output: (32-3+2x1)/1 +1 = 32\n",
    "        self.conv_1 = nn.Conv2d(in_channels=3, out_channels=24, kernel_size=3, stride=1, padding=1)\n",
    "        #conv mit output: (32-3+2x1) / 1 + 1 = 32\n",
    "        self.conv_2 = nn.Conv2d(in_channels=24, out_channels=24, kernel_size=3, stride=1,padding=1)\n",
    "        self.fc1 = nn.Linear(24 * 8 * 8,60)\n",
    "        self.fc2 = nn.Linear(60, 10)\n",
    "\n",
    "    def forward(self, x):\n",
    "\n",
    "        x = self.conv_1(x)                                       #32x32 = (32-3 + 2x1) / 1 + 1\n",
    "        x = F.relu(x)\n",
    "        x = F.max_pool2d(input=x, kernel_size=2, stride = 2)    #16x16 = (32-2)/2 + 1\n",
    "\n",
    "        x = self.conv_2(x)                                       #16x16 = (16-3 + 2x1) / 1 + 1\n",
    "        x = F.relu(x)\n",
    "        x = F.avg_pool2d(x, kernel_size=2, stride=2)            #8x8 = (16-2) / 2 + 1\n",
    "        x = F.dropout(x, 0.2)             \n",
    "\n",
    "        x = x.view(-1, 24 * 8 * 8)  \n",
    "        x = F.relu(self.fc1(x))\n",
    "        x = self.fc2(x)\n",
    "\n",
    "        return F.log_softmax(x)        "
   ]
  },
  {
   "cell_type": "code",
   "execution_count": 11,
   "metadata": {},
   "outputs": [
    {
     "data": {
      "text/plain": [
       "torch.Size([64, 3, 32, 32])"
      ]
     },
     "execution_count": 11,
     "metadata": {},
     "output_type": "execute_result"
    }
   ],
   "source": [
    "next(iter(trainloader))[0].shape"
   ]
  },
  {
   "cell_type": "markdown",
   "metadata": {},
   "source": [
    "Specify a loss function and an optimizer, and instantiate the model.\n",
    "\n",
    "If you use a less common loss function, please note why you chose that loss function in a comment."
   ]
  },
  {
   "cell_type": "code",
   "execution_count": 21,
   "metadata": {},
   "outputs": [],
   "source": [
    "## YOUR CODE HERE ##\n",
    "\n",
    "model = neural_net()\n",
    "model.cuda()\n",
    "\n",
    "\n",
    "criterion = nn.CrossEntropyLoss()\n",
    "optimizer = optim.SGD(model.parameters(), lr=0.001, momentum=0.9)"
   ]
  },
  {
   "cell_type": "markdown",
   "metadata": {},
   "source": [
    "## Running your Neural Network\n",
    "Use whatever method you like to train your neural network, and ensure you record the average loss at each epoch. \n",
    "Don't forget to use `torch.device()` and the `.to()` method for both your model and your data if you are using GPU!\n",
    "\n",
    "If you want to print your loss during each epoch, you can use the `enumerate` function and print the loss after a set number of batches. 250 batches works well for most people!"
   ]
  },
  {
   "cell_type": "code",
   "execution_count": 22,
   "metadata": {},
   "outputs": [
    {
     "name": "stderr",
     "output_type": "stream",
     "text": [
      "C:\\Users\\z635177\\AppData\\Local\\Temp\\ipykernel_23064\\3601851005.py:29: UserWarning: Implicit dimension choice for log_softmax has been deprecated. Change the call to include dim=X as an argument.\n",
      "  return F.log_softmax(x)\n"
     ]
    },
    {
     "name": "stdout",
     "output_type": "stream",
     "text": [
      "Epoch: 1/100..  Training Loss: 2.205..  Val Loss: 2.037..  Val Accuracy: 0.274\n",
      "Epoch: 2/100..  Training Loss: 1.944..  Val Loss: 1.871..  Val Accuracy: 0.333\n",
      "Epoch: 3/100..  Training Loss: 1.822..  Val Loss: 1.762..  Val Accuracy: 0.376\n",
      "Epoch: 4/100..  Training Loss: 1.711..  Val Loss: 1.641..  Val Accuracy: 0.410\n",
      "Epoch: 5/100..  Training Loss: 1.616..  Val Loss: 1.584..  Val Accuracy: 0.429\n",
      "Epoch: 6/100..  Training Loss: 1.555..  Val Loss: 1.520..  Val Accuracy: 0.457\n",
      "Epoch: 7/100..  Training Loss: 1.513..  Val Loss: 1.491..  Val Accuracy: 0.457\n",
      "Epoch: 8/100..  Training Loss: 1.478..  Val Loss: 1.454..  Val Accuracy: 0.479\n",
      "Epoch: 9/100..  Training Loss: 1.446..  Val Loss: 1.420..  Val Accuracy: 0.497\n",
      "Epoch: 10/100..  Training Loss: 1.415..  Val Loss: 1.389..  Val Accuracy: 0.504\n",
      "Epoch: 11/100..  Training Loss: 1.392..  Val Loss: 1.377..  Val Accuracy: 0.497\n",
      "Epoch: 12/100..  Training Loss: 1.371..  Val Loss: 1.356..  Val Accuracy: 0.515\n",
      "Epoch: 13/100..  Training Loss: 1.349..  Val Loss: 1.336..  Val Accuracy: 0.519\n",
      "Epoch: 14/100..  Training Loss: 1.335..  Val Loss: 1.322..  Val Accuracy: 0.526\n",
      "Epoch: 15/100..  Training Loss: 1.320..  Val Loss: 1.313..  Val Accuracy: 0.534\n",
      "Epoch: 16/100..  Training Loss: 1.302..  Val Loss: 1.307..  Val Accuracy: 0.534\n",
      "Epoch: 17/100..  Training Loss: 1.291..  Val Loss: 1.286..  Val Accuracy: 0.541\n",
      "Epoch: 18/100..  Training Loss: 1.274..  Val Loss: 1.268..  Val Accuracy: 0.552\n",
      "Epoch: 19/100..  Training Loss: 1.261..  Val Loss: 1.261..  Val Accuracy: 0.556\n",
      "Epoch: 20/100..  Training Loss: 1.247..  Val Loss: 1.248..  Val Accuracy: 0.555\n",
      "Epoch: 21/100..  Training Loss: 1.236..  Val Loss: 1.224..  Val Accuracy: 0.570\n",
      "Epoch: 22/100..  Training Loss: 1.223..  Val Loss: 1.227..  Val Accuracy: 0.566\n",
      "Epoch: 23/100..  Training Loss: 1.209..  Val Loss: 1.212..  Val Accuracy: 0.574\n",
      "Epoch: 24/100..  Training Loss: 1.200..  Val Loss: 1.219..  Val Accuracy: 0.570\n",
      "Epoch: 25/100..  Training Loss: 1.190..  Val Loss: 1.197..  Val Accuracy: 0.577\n",
      "Epoch: 26/100..  Training Loss: 1.182..  Val Loss: 1.189..  Val Accuracy: 0.581\n",
      "Epoch: 27/100..  Training Loss: 1.170..  Val Loss: 1.189..  Val Accuracy: 0.585\n",
      "Epoch: 28/100..  Training Loss: 1.162..  Val Loss: 1.170..  Val Accuracy: 0.585\n",
      "Epoch: 29/100..  Training Loss: 1.156..  Val Loss: 1.166..  Val Accuracy: 0.588\n",
      "Epoch: 30/100..  Training Loss: 1.145..  Val Loss: 1.143..  Val Accuracy: 0.597\n",
      "Epoch: 31/100..  Training Loss: 1.139..  Val Loss: 1.153..  Val Accuracy: 0.588\n",
      "Epoch: 32/100..  Training Loss: 1.132..  Val Loss: 1.142..  Val Accuracy: 0.597\n",
      "Epoch: 33/100..  Training Loss: 1.126..  Val Loss: 1.143..  Val Accuracy: 0.599\n",
      "Epoch: 34/100..  Training Loss: 1.119..  Val Loss: 1.132..  Val Accuracy: 0.603\n",
      "Epoch: 35/100..  Training Loss: 1.110..  Val Loss: 1.128..  Val Accuracy: 0.606\n",
      "Epoch: 36/100..  Training Loss: 1.101..  Val Loss: 1.131..  Val Accuracy: 0.599\n",
      "Epoch: 37/100..  Training Loss: 1.094..  Val Loss: 1.120..  Val Accuracy: 0.606\n",
      "Epoch: 38/100..  Training Loss: 1.090..  Val Loss: 1.108..  Val Accuracy: 0.605\n",
      "Epoch: 39/100..  Training Loss: 1.081..  Val Loss: 1.093..  Val Accuracy: 0.615\n",
      "Epoch: 40/100..  Training Loss: 1.077..  Val Loss: 1.110..  Val Accuracy: 0.605\n",
      "Epoch: 41/100..  Training Loss: 1.069..  Val Loss: 1.127..  Val Accuracy: 0.599\n",
      "Epoch: 42/100..  Training Loss: 1.060..  Val Loss: 1.084..  Val Accuracy: 0.618\n",
      "Epoch: 43/100..  Training Loss: 1.062..  Val Loss: 1.087..  Val Accuracy: 0.619\n",
      "Epoch: 44/100..  Training Loss: 1.055..  Val Loss: 1.088..  Val Accuracy: 0.616\n",
      "Epoch: 45/100..  Training Loss: 1.044..  Val Loss: 1.091..  Val Accuracy: 0.616\n",
      "Epoch: 46/100..  Training Loss: 1.041..  Val Loss: 1.069..  Val Accuracy: 0.623\n",
      "Epoch: 47/100..  Training Loss: 1.036..  Val Loss: 1.071..  Val Accuracy: 0.624\n",
      "Epoch: 48/100..  Training Loss: 1.029..  Val Loss: 1.069..  Val Accuracy: 0.627\n",
      "Epoch: 49/100..  Training Loss: 1.028..  Val Loss: 1.057..  Val Accuracy: 0.627\n",
      "Epoch: 50/100..  Training Loss: 1.018..  Val Loss: 1.056..  Val Accuracy: 0.631\n",
      "Epoch: 51/100..  Training Loss: 1.017..  Val Loss: 1.061..  Val Accuracy: 0.628\n",
      "Epoch: 52/100..  Training Loss: 1.013..  Val Loss: 1.049..  Val Accuracy: 0.632\n",
      "Epoch: 53/100..  Training Loss: 1.009..  Val Loss: 1.043..  Val Accuracy: 0.638\n",
      "Epoch: 54/100..  Training Loss: 1.002..  Val Loss: 1.030..  Val Accuracy: 0.636\n",
      "Epoch: 55/100..  Training Loss: 0.998..  Val Loss: 1.056..  Val Accuracy: 0.625\n",
      "Epoch: 56/100..  Training Loss: 0.994..  Val Loss: 1.031..  Val Accuracy: 0.636\n",
      "Epoch: 57/100..  Training Loss: 0.992..  Val Loss: 1.036..  Val Accuracy: 0.633\n",
      "Epoch: 58/100..  Training Loss: 0.983..  Val Loss: 1.017..  Val Accuracy: 0.643\n",
      "Epoch: 59/100..  Training Loss: 0.979..  Val Loss: 1.027..  Val Accuracy: 0.637\n",
      "Epoch: 60/100..  Training Loss: 0.976..  Val Loss: 1.032..  Val Accuracy: 0.636\n",
      "Epoch: 61/100..  Training Loss: 0.974..  Val Loss: 1.011..  Val Accuracy: 0.644\n",
      "Epoch: 62/100..  Training Loss: 0.970..  Val Loss: 1.017..  Val Accuracy: 0.642\n",
      "Epoch: 63/100..  Training Loss: 0.966..  Val Loss: 1.016..  Val Accuracy: 0.644\n",
      "Epoch: 64/100..  Training Loss: 0.964..  Val Loss: 1.024..  Val Accuracy: 0.640\n",
      "Epoch: 65/100..  Training Loss: 0.954..  Val Loss: 1.012..  Val Accuracy: 0.644\n",
      "Epoch: 66/100..  Training Loss: 0.954..  Val Loss: 1.014..  Val Accuracy: 0.646\n",
      "Epoch: 67/100..  Training Loss: 0.945..  Val Loss: 1.000..  Val Accuracy: 0.651\n",
      "Epoch: 68/100..  Training Loss: 0.944..  Val Loss: 0.987..  Val Accuracy: 0.659\n",
      "Epoch: 69/100..  Training Loss: 0.947..  Val Loss: 0.987..  Val Accuracy: 0.648\n",
      "Epoch: 70/100..  Training Loss: 0.938..  Val Loss: 1.010..  Val Accuracy: 0.645\n",
      "Epoch: 71/100..  Training Loss: 0.936..  Val Loss: 0.994..  Val Accuracy: 0.656\n",
      "Epoch: 72/100..  Training Loss: 0.928..  Val Loss: 0.999..  Val Accuracy: 0.651\n",
      "Epoch: 73/100..  Training Loss: 0.929..  Val Loss: 0.998..  Val Accuracy: 0.651\n",
      "Epoch: 74/100..  Training Loss: 0.930..  Val Loss: 0.981..  Val Accuracy: 0.661\n",
      "Epoch: 75/100..  Training Loss: 0.926..  Val Loss: 0.973..  Val Accuracy: 0.659\n",
      "Epoch: 76/100..  Training Loss: 0.918..  Val Loss: 0.978..  Val Accuracy: 0.659\n",
      "Epoch: 77/100..  Training Loss: 0.920..  Val Loss: 0.973..  Val Accuracy: 0.660\n",
      "Epoch: 78/100..  Training Loss: 0.913..  Val Loss: 0.979..  Val Accuracy: 0.656\n",
      "Epoch: 79/100..  Training Loss: 0.910..  Val Loss: 0.977..  Val Accuracy: 0.661\n",
      "Epoch: 80/100..  Training Loss: 0.908..  Val Loss: 0.965..  Val Accuracy: 0.657\n",
      "Epoch: 81/100..  Training Loss: 0.902..  Val Loss: 0.971..  Val Accuracy: 0.660\n",
      "Epoch: 82/100..  Training Loss: 0.906..  Val Loss: 0.972..  Val Accuracy: 0.665\n",
      "Epoch: 83/100..  Training Loss: 0.901..  Val Loss: 0.953..  Val Accuracy: 0.668\n",
      "Epoch: 84/100..  Training Loss: 0.895..  Val Loss: 0.962..  Val Accuracy: 0.667\n",
      "Epoch: 85/100..  Training Loss: 0.895..  Val Loss: 0.968..  Val Accuracy: 0.661\n",
      "Epoch: 86/100..  Training Loss: 0.888..  Val Loss: 0.972..  Val Accuracy: 0.660\n",
      "Epoch: 87/100..  Training Loss: 0.886..  Val Loss: 0.972..  Val Accuracy: 0.663\n",
      "Epoch: 88/100..  Training Loss: 0.888..  Val Loss: 0.963..  Val Accuracy: 0.657\n",
      "Epoch: 89/100..  Training Loss: 0.879..  Val Loss: 0.944..  Val Accuracy: 0.670\n",
      "Epoch: 90/100..  Training Loss: 0.882..  Val Loss: 0.965..  Val Accuracy: 0.662\n",
      "Epoch: 91/100..  Training Loss: 0.884..  Val Loss: 0.940..  Val Accuracy: 0.668\n",
      "Epoch: 92/100..  Training Loss: 0.877..  Val Loss: 0.973..  Val Accuracy: 0.663\n",
      "Epoch: 93/100..  Training Loss: 0.878..  Val Loss: 0.955..  Val Accuracy: 0.668\n",
      "Epoch: 94/100..  Training Loss: 0.873..  Val Loss: 0.950..  Val Accuracy: 0.663\n",
      "Epoch: 95/100..  Training Loss: 0.870..  Val Loss: 0.952..  Val Accuracy: 0.672\n",
      "Epoch: 96/100..  Training Loss: 0.868..  Val Loss: 0.943..  Val Accuracy: 0.671\n",
      "Epoch: 97/100..  Training Loss: 0.865..  Val Loss: 0.943..  Val Accuracy: 0.664\n",
      "Epoch: 98/100..  Training Loss: 0.862..  Val Loss: 0.949..  Val Accuracy: 0.669\n",
      "Epoch: 99/100..  Training Loss: 0.863..  Val Loss: 0.946..  Val Accuracy: 0.666\n",
      "Epoch: 100/100..  Training Loss: 0.861..  Val Loss: 0.948..  Val Accuracy: 0.665\n"
     ]
    }
   ],
   "source": [
    "## YOUR CODE HERE ##\n",
    "epochs = 100\n",
    "steps = 0\n",
    "\n",
    "train_losses, val_losses = [], []\n",
    "\n",
    "for epoch in range(epochs):\n",
    "\n",
    "    running_loss = 0\n",
    "    model.train()\n",
    "\n",
    "    for batch_id, (data, target) in enumerate(trainloader):\n",
    "        #Training\n",
    "        data = data.cuda()\n",
    "        target = target.cuda()\n",
    "\n",
    "        optimizer.zero_grad()\n",
    "        y_pred_train = model.forward(data)\n",
    "    \n",
    "        loss = criterion(y_pred_train, target)\n",
    "        loss.backward()\n",
    "        optimizer.step()\n",
    "\n",
    "        running_loss += loss.item()\n",
    "    else:\n",
    "        val_loss = 0\n",
    "        accuracy = 0\n",
    "\n",
    "        with torch.no_grad():\n",
    "            model.eval()\n",
    "            for batch_id, (data, target) in enumerate(val_set_loader):\n",
    "                #forward pass\n",
    "                data = data.cuda()\n",
    "                target = target.cuda()\n",
    "\n",
    "                y_pred_val = model.forward(data)\n",
    "                val_loss += criterion(y_pred_val, target).item()\n",
    "\n",
    "                y_pred_val = torch.exp(y_pred_val)\n",
    "                top_p, top_class = y_pred_val.topk(1, dim=1)\n",
    "                equals = top_class == target.view(*top_class.shape)\n",
    "                accuracy += torch.mean(equals.type(torch.FloatTensor))\n",
    "\n",
    "        train_losses.append(running_loss / len(trainloader))\n",
    "        val_losses.append(val_loss / len(val_set_loader))\n",
    "\n",
    "        print(\"Epoch: {}/{}.. \".format(epoch+1, epochs),\n",
    "            \"Training Loss: {:.3f}.. \".format(running_loss/len(trainloader)),\n",
    "            \"Val Loss: {:.3f}.. \".format(val_loss/len(val_set_loader)),\n",
    "            \"Val Accuracy: {:.3f}\".format(accuracy/len(val_set_loader)))"
   ]
  },
  {
   "cell_type": "markdown",
   "metadata": {},
   "source": [
    "Plot the training loss (and validation loss/accuracy, if recorded)."
   ]
  },
  {
   "cell_type": "code",
   "execution_count": 23,
   "metadata": {},
   "outputs": [
    {
     "data": {
      "image/png": "[encoded data removed]",
      "text/plain": [
       "<Figure size 640x480 with 1 Axes>"
      ]
     },
     "metadata": {},
     "output_type": "display_data"
    }
   ],
   "source": [
    "## YOUR CODE HERE ##\n",
    "plt.plot(train_losses, label=\"Training Loss\")\n",
    "plt.plot(val_losses, label=\"Validation loss\")\n",
    "plt.legend(frameon=False)\n",
    "plt.grid();"
   ]
  },
  {
   "cell_type": "markdown",
   "metadata": {},
   "source": [
    "## Testing your model\n",
    "Using the previously created `DataLoader` for the test set, compute the percentage of correct predictions using the highest probability prediction. \n",
    "\n",
    "If your accuracy is over 70%, great work! \n",
    "This is a hard task to exceed 70% on.\n",
    "\n",
    "If your accuracy is under 45%, you'll need to make improvements.\n",
    "Go back and check your model architecture, loss function, and optimizer to make sure they're appropriate for an image classification task."
   ]
  },
  {
   "cell_type": "code",
   "execution_count": 24,
   "metadata": {},
   "outputs": [
    {
     "name": "stderr",
     "output_type": "stream",
     "text": [
      "C:\\Users\\z635177\\AppData\\Local\\Temp\\ipykernel_23064\\3601851005.py:29: UserWarning: Implicit dimension choice for log_softmax has been deprecated. Change the call to include dim=X as an argument.\n",
      "  return F.log_softmax(x)\n"
     ]
    }
   ],
   "source": [
    "## YOUR CODE HERE ##\n",
    "test_losses_final = []\n",
    "accuracy = 0\n",
    "test_loss = 0\n",
    "\n",
    "with torch.no_grad():\n",
    "    model.eval()\n",
    "    for batch_id, (data, target) in enumerate(testloader):\n",
    "        #forward pass\n",
    "        data = data.cuda()\n",
    "        target = target.cuda()\n",
    "\n",
    "        y_pred_test = model.forward(data)\n",
    "        test_loss += criterion(y_pred_test, target).item()\n",
    "\n",
    "        y_pred_test = torch.exp(y_pred_test)\n",
    "        top_p, top_class = y_pred_test.topk(1, dim=1)\n",
    "        equals = top_class == target.view(*top_class.shape)\n",
    "        accuracy += torch.mean(equals.type(torch.FloatTensor))"
   ]
  },
  {
   "cell_type": "code",
   "execution_count": 25,
   "metadata": {},
   "outputs": [
    {
     "data": {
      "text/plain": [
       "0.6998407643312102"
      ]
     },
     "execution_count": 25,
     "metadata": {},
     "output_type": "execute_result"
    }
   ],
   "source": [
    "accuracy.item() / len(testloader)"
   ]
  },
  {
   "cell_type": "markdown",
   "metadata": {},
   "source": [
    "## Saving your model\n",
    "Using `torch.save`, save your model for future loading."
   ]
  },
  {
   "cell_type": "code",
   "execution_count": 26,
   "metadata": {},
   "outputs": [],
   "source": [
    "## YOUR CODE HERE ##\n",
    "torch.save(model.state_dict(), \"checkpoint.pth\")"
   ]
  },
  {
   "cell_type": "markdown",
   "metadata": {},
   "source": [
    "## Make a Recommendation\n",
    "\n",
    "Based on your evaluation, what is your recommendation on whether to build or buy? Explain your reasoning below."
   ]
  },
  {
   "cell_type": "markdown",
   "metadata": {},
   "source": [
    "As stated in the introduction, the company Detectocorp's algorithm is reaching a 70% accuracy rate on the CIFAR-10 dataset. <br>\n",
    "The task was to investigate if it's possible to create an inhouse algorithm performing at least as well as this algorithm provided from Detectocorp.<br>\n",
    "\n",
    "Within this buy or make analysis, we developed a CNN Classifier trained on the CIFAR-10 Dataset and as a result we reached an accuracy rate of around 69 %. It should be noticed that this development has been a simple proof of concept to challenge the algorithm of Detectocorp to support the  \"Build or Buy decision\". <br>\n",
    "\n",
    "In summary, with a quite effortless setup we could reach a performance of around 69 % and we are confident to either fine-tune the architecture of the proof of concept CNN or the hyperparameter of the model to beat the performance of Detectocorp.<br>\n",
    "<br>\n",
    "So, we advise to build the algorithm ourselves."
   ]
  },
  {
   "cell_type": "markdown",
   "metadata": {},
   "source": []
  }
 ],
 "metadata": {
  "kernelspec": {
   "display_name": "Python 3",
   "language": "python",
   "name": "python3"
  },
  "language_info": {
   "codemirror_mode": {
    "name": "ipython",
    "version": 3
   },
   "file_extension": ".py",
   "mimetype": "text/x-python",
   "name": "python",
   "nbconvert_exporter": "python",
   "pygments_lexer": "ipython3",
   "version": "3.8.0"
  }
 },
 "nbformat": 4,
 "nbformat_minor": 4
}
