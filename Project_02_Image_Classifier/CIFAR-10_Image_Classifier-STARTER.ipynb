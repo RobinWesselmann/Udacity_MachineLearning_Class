{
 "cells": [
  {
   "cell_type": "markdown",
   "metadata": {},
   "source": [
    "# Introduction\n",
    "\n",
    "In this project, you will build a neural network of your own design to evaluate the CIFAR-10 dataset.\n",
    "Our target accuracy is 70%, but any accuracy over 50% is a great start.\n",
    "Some of the benchmark results on CIFAR-10 include:\n",
    "\n",
    "78.9% Accuracy | [Deep Belief Networks; Krizhevsky, 2010](https://www.cs.toronto.edu/~kriz/conv-cifar10-aug2010.pdf)\n",
    "\n",
    "90.6% Accuracy | [Maxout Networks; Goodfellow et al., 2013](https://arxiv.org/pdf/1302.4389.pdf)\n",
    "\n",
    "96.0% Accuracy | [Wide Residual Networks; Zagoruyko et al., 2016](https://arxiv.org/pdf/1605.07146.pdf)\n",
    "\n",
    "99.0% Accuracy | [GPipe; Huang et al., 2018](https://arxiv.org/pdf/1811.06965.pdf)\n",
    "\n",
    "98.5% Accuracy | [Rethinking Recurrent Neural Networks and other Improvements for ImageClassification; Nguyen et al., 2020](https://arxiv.org/pdf/2007.15161.pdf)\n",
    "\n",
    "Research with this dataset is ongoing. Notably, many of these networks are quite large and quite expensive to train. \n",
    "\n",
    "## Imports"
   ]
  },
  {
   "cell_type": "code",
   "execution_count": 1,
   "metadata": {},
   "outputs": [],
   "source": [
    "## This cell contains the essential imports you will need – DO NOT CHANGE THE CONTENTS! ##\n",
    "import torch\n",
    "import torch.nn as nn\n",
    "import torch.nn.functional as F\n",
    "import torch.optim as optim\n",
    "import torchvision\n",
    "import torchvision.transforms as transforms\n",
    "import matplotlib.pyplot as plt\n",
    "import numpy as np\n",
    "import pickle"
   ]
  },
  {
   "cell_type": "markdown",
   "metadata": {},
   "source": [
    "## Load the Dataset\n",
    "\n",
    "Specify your transforms as a list first.\n",
    "The transforms module is already loaded as `transforms`.\n",
    "\n",
    "CIFAR-10 is fortunately included in the torchvision module.\n",
    "Then, you can create your dataset using the `CIFAR10` object from `torchvision.datasets` ([the documentation is available here](https://pytorch.org/docs/stable/torchvision/datasets.html#cifar)).\n",
    "Make sure to specify `download=True`! \n",
    "\n",
    "Once your dataset is created, you'll also need to define a `DataLoader` from the `torch.utils.data` module for both the train and the test set."
   ]
  },
  {
   "cell_type": "code",
   "execution_count": 2,
   "metadata": {},
   "outputs": [],
   "source": [
    "\"\"\"def unpickle(file):   \n",
    "    with open(file, 'rb') as fo:       \n",
    "        dict = pickle.load(fo, encoding='bytes')   \n",
    "        return dict\n",
    "\n",
    "def load_data(data_dir):\n",
    "    #load train\n",
    "    for i in range(1,6):\n",
    "        filename = data_dir + f\"data_batch_{i}\" \n",
    "        dictionary  =unpickle(filename)\n",
    "        x_data = dictionary[b\"data\"]\n",
    "        y_data = np.array(dictionary[b\"labels\"])\n",
    "\n",
    "        if == 1:\n",
    "            x_train = x_data\n",
    "            y_train = y_data\n",
    "        else:\n",
    "            x_train = np.concatenate((x_train, x_data), axis = 0)\n",
    "            y_train = np.concatenate((y_train, y_data), axis = 0)\n",
    "\n",
    "    #load test\n",
    "    filename = data_dir + \"test_batch\"\n",
    "    dictionary = unpickle(filename)\n",
    "    data = dictionary[b\"data\"]\n",
    "    x_test = data\n",
    "    y_test = np.array(dictionary[b\"labels\"])\n",
    "    return x_train, y_train, x_test, y_test\n",
    "    \"\"\"\n",
    "# Define transforms\n",
    "## YOUR CODE HERE ##\n",
    "train_transform = transforms.Compose([\n",
    "    transforms.RandomRotation(30),\n",
    "    transforms.RandomHorizontalFlip(),\n",
    "    transforms.ToTensor(),\n",
    "    transforms.Normalize([0.5,0.5,0.5], [0.5,0.5,0.5])\n",
    "])\n",
    "\n",
    "test_transform = transforms.Compose([\n",
    "    transforms.ToTensor(),\n",
    "    transforms.Normalize([0.5,0.5,0.5], [0.5,0.5,0.5])\n",
    "])\n",
    "\n",
    "# Create training set and define training dataloader\n",
    "#https://www.datascienceweekly.org/tutorials/cifar10-pytorch-load-cifar10-dataset-from-torchvision\n",
    "## YOUR CODE HERE ##\n",
    "first_run = False\n",
    "\n",
    "if first_run:\n",
    "    download_flag = True\n",
    "else:\n",
    "    download_flag = False\n",
    "\n",
    "#in the datasets library the ImageFolder module is already included\n",
    "cifar_trainset = torchvision.datasets.CIFAR10(root = \"./data/train\", train=True, download=download_flag, transform=train_transform)\n",
    "trainloader = torch.utils.data.DataLoader(cifar_trainset, batch_size = 64, shuffle = True)\n",
    "\n",
    "# Create test set and define test dataloader\n",
    "## YOUR CODE HERE ##\n",
    "cifar_testset = torchvision.datasets.CIFAR10(root = \"./data/test\", train=False, download=download_flag, transform=test_transform)\n",
    "testloader = torch.utils.data.DataLoader(cifar_testset, batch_size = 64)\n",
    "\n",
    "# The 10 classes in the dataset\n",
    "classes = ('plane', 'car', 'bird', 'cat', 'deer', 'dog', 'frog', 'horse', 'ship', 'truck')"
   ]
  },
  {
   "cell_type": "code",
   "execution_count": 3,
   "metadata": {},
   "outputs": [
    {
     "name": "stderr",
     "output_type": "stream",
     "text": [
      "C:\\Users\\z635177\\AppData\\Local\\Temp\\ipykernel_38808\\2176215597.py:5: UserWarning: The use of `x.T` on tensors of dimension other than 2 to reverse their shape is deprecated and it will throw an error in a future release. Consider `x.mT` to transpose batches of matrices or `x.permute(*torch.arange(x.ndim - 1, -1, -1))` to reverse the dimensions of a tensor. (Triggered internally at C:\\actions-runner\\_work\\pytorch\\pytorch\\builder\\windows\\pytorch\\aten\\src\\ATen\\native\\TensorShape.cpp:3618.)\n",
      "  plt.imshow(image.squeeze().T, cmap=\"gray\")\n",
      "Clipping input data to the valid range for imshow with RGB data ([0..1] for floats or [0..255] for integers).\n"
     ]
    },
    {
     "data": {
      "text/plain": [
       "Text(0.5, 1.0, 'frog')"
      ]
     },
     "execution_count": 3,
     "metadata": {},
     "output_type": "execute_result"
    },
    {
     "data": {
      "image/png": "[encoded data removed]",
      "text/plain": [
       "<Figure size 900x900 with 1 Axes>"
      ]
     },
     "metadata": {},
     "output_type": "display_data"
    }
   ],
   "source": [
    "image, label = cifar_trainset[0]\n",
    "\n",
    "fig = plt.figure(figsize = (9,9))\n",
    "fig.add_subplot(1,1,1)\n",
    "plt.imshow(image.squeeze().T, cmap=\"gray\")\n",
    "plt.title(f\"{classes[label]}\")"
   ]
  },
  {
   "cell_type": "code",
   "execution_count": 4,
   "metadata": {},
   "outputs": [
    {
     "data": {
      "text/plain": [
       "Dataset CIFAR10\n",
       "    Number of datapoints: 50000\n",
       "    Root location: ./data/train\n",
       "    Split: Train\n",
       "    StandardTransform\n",
       "Transform: Compose(\n",
       "               RandomRotation(degrees=[-30.0, 30.0], interpolation=nearest, expand=False, fill=0)\n",
       "               RandomHorizontalFlip(p=0.5)\n",
       "               ToTensor()\n",
       "               Normalize(mean=[0.5, 0.5, 0.5], std=[0.5, 0.5, 0.5])\n",
       "           )"
      ]
     },
     "execution_count": 4,
     "metadata": {},
     "output_type": "execute_result"
    }
   ],
   "source": [
    "trainloader.dataset"
   ]
  },
  {
   "cell_type": "code",
   "execution_count": 5,
   "metadata": {},
   "outputs": [
    {
     "data": {
      "text/plain": [
       "Dataset CIFAR10\n",
       "    Number of datapoints: 10000\n",
       "    Root location: ./data/test\n",
       "    Split: Test\n",
       "    StandardTransform\n",
       "Transform: Compose(\n",
       "               ToTensor()\n",
       "               Normalize(mean=[0.5, 0.5, 0.5], std=[0.5, 0.5, 0.5])\n",
       "           )"
      ]
     },
     "execution_count": 5,
     "metadata": {},
     "output_type": "execute_result"
    }
   ],
   "source": [
    "testloader.dataset"
   ]
  },
  {
   "cell_type": "markdown",
   "metadata": {},
   "source": [
    "## Explore the Dataset\n",
    "Using matplotlib, numpy, and torch, explore the dimensions of your data.\n",
    "\n",
    "You can view images using the `show5` function defined below – it takes a data loader as an argument.\n",
    "Remember that normalized images will look really weird to you! You may want to try changing your transforms to view images.\n",
    "Typically using no transforms other than `toTensor()` works well for viewing – but not as well for training your network.\n",
    "If `show5` doesn't work, go back and check your code for creating your data loaders and your training/test sets."
   ]
  },
  {
   "cell_type": "code",
   "execution_count": 6,
   "metadata": {},
   "outputs": [],
   "source": [
    "def show5(img_loader):\n",
    "    dataiter = iter(img_loader)\n",
    "    \n",
    "    batch = next(dataiter)\n",
    "    labels = batch[1][0:5]\n",
    "    images = batch[0][0:5]\n",
    "    for i in range(5):\n",
    "        print(classes[labels[i]])\n",
    "    \n",
    "        image = images[i].numpy()\n",
    "        plt.imshow(image.T)\n",
    "        plt.show()"
   ]
  },
  {
   "cell_type": "code",
   "execution_count": 7,
   "metadata": {},
   "outputs": [
    {
     "name": "stderr",
     "output_type": "stream",
     "text": [
      "Clipping input data to the valid range for imshow with RGB data ([0..1] for floats or [0..255] for integers).\n"
     ]
    },
    {
     "name": "stdout",
     "output_type": "stream",
     "text": [
      "frog\n"
     ]
    },
    {
     "data": {
      "image/png": "[encoded data removed]",
      "text/plain": [
       "<Figure size 640x480 with 1 Axes>"
      ]
     },
     "metadata": {},
     "output_type": "display_data"
    },
    {
     "name": "stderr",
     "output_type": "stream",
     "text": [
      "Clipping input data to the valid range for imshow with RGB data ([0..1] for floats or [0..255] for integers).\n"
     ]
    },
    {
     "name": "stdout",
     "output_type": "stream",
     "text": [
      "frog\n"
     ]
    },
    {
     "data": {
      "image/png": "[encoded data removed]",
      "text/plain": [
       "<Figure size 640x480 with 1 Axes>"
      ]
     },
     "metadata": {},
     "output_type": "display_data"
    },
    {
     "name": "stderr",
     "output_type": "stream",
     "text": [
      "Clipping input data to the valid range for imshow with RGB data ([0..1] for floats or [0..255] for integers).\n"
     ]
    },
    {
     "name": "stdout",
     "output_type": "stream",
     "text": [
      "frog\n"
     ]
    },
    {
     "data": {
      "image/png": "[encoded data removed]",
      "text/plain": [
       "<Figure size 640x480 with 1 Axes>"
      ]
     },
     "metadata": {},
     "output_type": "display_data"
    },
    {
     "name": "stderr",
     "output_type": "stream",
     "text": [
      "Clipping input data to the valid range for imshow with RGB data ([0..1] for floats or [0..255] for integers).\n"
     ]
    },
    {
     "name": "stdout",
     "output_type": "stream",
     "text": [
      "horse\n"
     ]
    },
    {
     "data": {
      "image/png": "[encoded data removed]",
      "text/plain": [
       "<Figure size 640x480 with 1 Axes>"
      ]
     },
     "metadata": {},
     "output_type": "display_data"
    },
    {
     "name": "stderr",
     "output_type": "stream",
     "text": [
      "Clipping input data to the valid range for imshow with RGB data ([0..1] for floats or [0..255] for integers).\n"
     ]
    },
    {
     "name": "stdout",
     "output_type": "stream",
     "text": [
      "cat\n"
     ]
    },
    {
     "data": {
      "image/png": "[encoded data removed]",
      "text/plain": [
       "<Figure size 640x480 with 1 Axes>"
      ]
     },
     "metadata": {},
     "output_type": "display_data"
    }
   ],
   "source": [
    "# Explore data\n",
    "## YOUR CODE HERE ##\n",
    "show5(trainloader)\n"
   ]
  },
  {
   "cell_type": "markdown",
   "metadata": {},
   "source": [
    "## Build your Neural Network\n",
    "Using the layers in `torch.nn` (which has been imported as `nn`) and the `torch.nn.functional` module (imported as `F`), construct a neural network based on the parameters of the dataset. \n",
    "Feel free to construct a model of any architecture – feedforward, convolutional, or even something more advanced!"
   ]
  },
  {
   "cell_type": "code",
   "execution_count": 65,
   "metadata": {},
   "outputs": [],
   "source": [
    "## YOUR CODE HERE ##\n",
    "class neural_net(nn.Module):\n",
    "\n",
    "    def __init__(self):\n",
    "\n",
    "        super(neural_net, self).__init__()\n",
    "        #conv mit output: (32-3+2x1)/1 +1 = 32\n",
    "        self.conv_1 = nn.Conv2d(in_channels=3, out_channels=24, kernel_size=3, stride=1, padding=1)\n",
    "        #conv mit output: (32-3+2x1) / 1 + 1 = 32\n",
    "        self.conv_2 = nn.Conv2d(in_channels=24, out_channels=24, kernel_size=3, stride=1,padding=1)\n",
    "        self.fc1 = nn.Linear(24 * 8 * 8,60)\n",
    "        self.fc2 = nn.Linear(60, 10)\n",
    "\n",
    "    def forward(self, x):\n",
    "\n",
    "        x = self.conv_1(x)                                       #32x32 = (32-3 + 2x1) / 1 + 1\n",
    "        x = F.relu(x)\n",
    "        x = F.max_pool2d(input=x, kernel_size=2, stride = 2)    #16x16 = (32-2)/2 + 1\n",
    "\n",
    "        x = self.conv_2(x)                                       #16x16 = (16-3 + 2x1) / 1 + 1\n",
    "        x = F.relu(x)\n",
    "        x = F.avg_pool2d(x, kernel_size=2, stride=2)            #8x8 = (16-2) / 2 + 1\n",
    "        x = F.dropout(x, 0.2)             \n",
    "\n",
    "        x = x.view(-1, 24 * 8 * 8)  \n",
    "        x = F.relu(self.fc1(x))\n",
    "        x = self.fc2(x)\n",
    "\n",
    "        return F.log_softmax(x)        "
   ]
  },
  {
   "cell_type": "code",
   "execution_count": 66,
   "metadata": {},
   "outputs": [
    {
     "data": {
      "text/plain": [
       "torch.Size([64, 3, 32, 32])"
      ]
     },
     "execution_count": 66,
     "metadata": {},
     "output_type": "execute_result"
    }
   ],
   "source": [
    "next(iter(trainloader))[0].shape"
   ]
  },
  {
   "cell_type": "markdown",
   "metadata": {},
   "source": [
    "Specify a loss function and an optimizer, and instantiate the model.\n",
    "\n",
    "If you use a less common loss function, please note why you chose that loss function in a comment."
   ]
  },
  {
   "cell_type": "code",
   "execution_count": 82,
   "metadata": {},
   "outputs": [],
   "source": [
    "## YOUR CODE HERE ##\n",
    "\n",
    "model = neural_net()\n",
    "model.cuda()\n",
    "\n",
    "\n",
    "criterion = nn.CrossEntropyLoss()\n",
    "optimizer = optim.SGD(model.parameters(), lr=0.001, momentum=0.9)"
   ]
  },
  {
   "cell_type": "markdown",
   "metadata": {},
   "source": [
    "## Running your Neural Network\n",
    "Use whatever method you like to train your neural network, and ensure you record the average loss at each epoch. \n",
    "Don't forget to use `torch.device()` and the `.to()` method for both your model and your data if you are using GPU!\n",
    "\n",
    "If you want to print your loss during each epoch, you can use the `enumerate` function and print the loss after a set number of batches. 250 batches works well for most people!"
   ]
  },
  {
   "cell_type": "code",
   "execution_count": 83,
   "metadata": {},
   "outputs": [
    {
     "name": "stderr",
     "output_type": "stream",
     "text": [
      "C:\\Users\\z635177\\AppData\\Local\\Temp\\ipykernel_38808\\3601851005.py:29: UserWarning: Implicit dimension choice for log_softmax has been deprecated. Change the call to include dim=X as an argument.\n",
      "  return F.log_softmax(x)\n"
     ]
    },
    {
     "name": "stdout",
     "output_type": "stream",
     "text": [
      "Epoch: 1/40..  Training Loss: 2.267..  Test Loss: 2.117..  Test Accuracy: 0.245\n",
      "Epoch: 2/40..  Training Loss: 1.964..  Test Loss: 1.859..  Test Accuracy: 0.344\n",
      "Epoch: 3/40..  Training Loss: 1.789..  Test Loss: 1.691..  Test Accuracy: 0.392\n",
      "Epoch: 4/40..  Training Loss: 1.647..  Test Loss: 1.553..  Test Accuracy: 0.447\n",
      "Epoch: 5/40..  Training Loss: 1.566..  Test Loss: 1.490..  Test Accuracy: 0.465\n",
      "Epoch: 6/40..  Training Loss: 1.520..  Test Loss: 1.446..  Test Accuracy: 0.479\n",
      "Epoch: 7/40..  Training Loss: 1.486..  Test Loss: 1.405..  Test Accuracy: 0.496\n",
      "Epoch: 8/40..  Training Loss: 1.451..  Test Loss: 1.366..  Test Accuracy: 0.510\n",
      "Epoch: 9/40..  Training Loss: 1.414..  Test Loss: 1.348..  Test Accuracy: 0.518\n",
      "Epoch: 10/40..  Training Loss: 1.385..  Test Loss: 1.317..  Test Accuracy: 0.531\n",
      "Epoch: 11/40..  Training Loss: 1.360..  Test Loss: 1.290..  Test Accuracy: 0.534\n",
      "Epoch: 12/40..  Training Loss: 1.333..  Test Loss: 1.260..  Test Accuracy: 0.545\n",
      "Epoch: 13/40..  Training Loss: 1.313..  Test Loss: 1.243..  Test Accuracy: 0.552\n",
      "Epoch: 14/40..  Training Loss: 1.296..  Test Loss: 1.235..  Test Accuracy: 0.559\n",
      "Epoch: 15/40..  Training Loss: 1.280..  Test Loss: 1.200..  Test Accuracy: 0.569\n",
      "Epoch: 16/40..  Training Loss: 1.263..  Test Loss: 1.191..  Test Accuracy: 0.572\n",
      "Epoch: 17/40..  Training Loss: 1.249..  Test Loss: 1.176..  Test Accuracy: 0.580\n",
      "Epoch: 18/40..  Training Loss: 1.230..  Test Loss: 1.176..  Test Accuracy: 0.581\n",
      "Epoch: 19/40..  Training Loss: 1.215..  Test Loss: 1.152..  Test Accuracy: 0.592\n",
      "Epoch: 20/40..  Training Loss: 1.206..  Test Loss: 1.139..  Test Accuracy: 0.593\n",
      "Epoch: 21/40..  Training Loss: 1.196..  Test Loss: 1.140..  Test Accuracy: 0.593\n",
      "Epoch: 22/40..  Training Loss: 1.181..  Test Loss: 1.117..  Test Accuracy: 0.600\n",
      "Epoch: 23/40..  Training Loss: 1.169..  Test Loss: 1.100..  Test Accuracy: 0.604\n",
      "Epoch: 24/40..  Training Loss: 1.160..  Test Loss: 1.099..  Test Accuracy: 0.604\n",
      "Epoch: 25/40..  Training Loss: 1.149..  Test Loss: 1.077..  Test Accuracy: 0.614\n",
      "Epoch: 26/40..  Training Loss: 1.135..  Test Loss: 1.070..  Test Accuracy: 0.618\n",
      "Epoch: 27/40..  Training Loss: 1.129..  Test Loss: 1.073..  Test Accuracy: 0.617\n",
      "Epoch: 28/40..  Training Loss: 1.122..  Test Loss: 1.064..  Test Accuracy: 0.616\n",
      "Epoch: 29/40..  Training Loss: 1.110..  Test Loss: 1.060..  Test Accuracy: 0.623\n",
      "Epoch: 30/40..  Training Loss: 1.102..  Test Loss: 1.043..  Test Accuracy: 0.629\n",
      "Epoch: 31/40..  Training Loss: 1.094..  Test Loss: 1.029..  Test Accuracy: 0.629\n",
      "Epoch: 32/40..  Training Loss: 1.083..  Test Loss: 1.038..  Test Accuracy: 0.631\n",
      "Epoch: 33/40..  Training Loss: 1.079..  Test Loss: 1.011..  Test Accuracy: 0.642\n",
      "Epoch: 34/40..  Training Loss: 1.070..  Test Loss: 1.017..  Test Accuracy: 0.637\n",
      "Epoch: 35/40..  Training Loss: 1.059..  Test Loss: 1.005..  Test Accuracy: 0.641\n",
      "Epoch: 36/40..  Training Loss: 1.060..  Test Loss: 1.004..  Test Accuracy: 0.643\n",
      "Epoch: 37/40..  Training Loss: 1.050..  Test Loss: 1.029..  Test Accuracy: 0.635\n",
      "Epoch: 38/40..  Training Loss: 1.040..  Test Loss: 0.986..  Test Accuracy: 0.648\n",
      "Epoch: 39/40..  Training Loss: 1.036..  Test Loss: 0.986..  Test Accuracy: 0.647\n",
      "Epoch: 40/40..  Training Loss: 1.029..  Test Loss: 0.980..  Test Accuracy: 0.651\n"
     ]
    }
   ],
   "source": [
    "## YOUR CODE HERE ##\n",
    "epochs = 40\n",
    "steps = 0\n",
    "\n",
    "train_losses, test_losses = [], []\n",
    "\n",
    "for epoch in range(epochs):\n",
    "\n",
    "    running_loss = 0\n",
    "    model.train()\n",
    "\n",
    "    for batch_id, (data, target) in enumerate(trainloader):\n",
    "        #Training\n",
    "        data = data.cuda()\n",
    "        target = target.cuda()\n",
    "\n",
    "        optimizer.zero_grad()\n",
    "        y_pred_train = model.forward(data)\n",
    "    \n",
    "        loss = criterion(y_pred_train, target)\n",
    "        loss.backward()\n",
    "        optimizer.step()\n",
    "\n",
    "        running_loss += loss.item()\n",
    "    else:\n",
    "        test_loss = 0\n",
    "        accuracy = 0\n",
    "\n",
    "        with torch.no_grad():\n",
    "            model.eval()\n",
    "            for batch_id, (data, target) in enumerate(testloader):\n",
    "                #forward pass\n",
    "                data = data.cuda()\n",
    "                target = target.cuda()\n",
    "\n",
    "                y_pred_test = model.forward(data)\n",
    "                test_loss += criterion(y_pred_test, target).item()\n",
    "\n",
    "                y_pred_test = torch.exp(y_pred_test)\n",
    "                top_p, top_class = y_pred_test.topk(1, dim=1)\n",
    "                equals = top_class == target.view(*top_class.shape)\n",
    "                accuracy += torch.mean(equals.type(torch.FloatTensor))\n",
    "\n",
    "        train_losses.append(running_loss / len(trainloader))\n",
    "        test_losses.append(test_loss / len(testloader))\n",
    "\n",
    "        print(\"Epoch: {}/{}.. \".format(epoch+1, epochs),\n",
    "            \"Training Loss: {:.3f}.. \".format(running_loss/len(trainloader)),\n",
    "            \"Test Loss: {:.3f}.. \".format(test_loss/len(testloader)),\n",
    "            \"Test Accuracy: {:.3f}\".format(accuracy/len(testloader)))"
   ]
  },
  {
   "cell_type": "markdown",
   "metadata": {},
   "source": [
    "Plot the training loss (and validation loss/accuracy, if recorded)."
   ]
  },
  {
   "cell_type": "code",
   "execution_count": 80,
   "metadata": {},
   "outputs": [
    {
     "data": {
      "image/png": "[encoded data removed]",
      "text/plain": [
       "<Figure size 640x480 with 1 Axes>"
      ]
     },
     "metadata": {},
     "output_type": "display_data"
    }
   ],
   "source": [
    "## YOUR CODE HERE ##\n",
    "plt.plot(train_losses, label=\"Training Loss\")\n",
    "plt.plot(test_losses, label=\"Validation loss\")\n",
    "plt.legend(frameon=False)\n",
    "plt.grid();"
   ]
  },
  {
   "cell_type": "markdown",
   "metadata": {},
   "source": [
    "## Testing your model\n",
    "Using the previously created `DataLoader` for the test set, compute the percentage of correct predictions using the highest probability prediction. \n",
    "\n",
    "If your accuracy is over 70%, great work! \n",
    "This is a hard task to exceed 70% on.\n",
    "\n",
    "If your accuracy is under 45%, you'll need to make improvements.\n",
    "Go back and check your model architecture, loss function, and optimizer to make sure they're appropriate for an image classification task."
   ]
  },
  {
   "cell_type": "code",
   "execution_count": 88,
   "metadata": {},
   "outputs": [
    {
     "name": "stderr",
     "output_type": "stream",
     "text": [
      "C:\\Users\\z635177\\AppData\\Local\\Temp\\ipykernel_38808\\3601851005.py:29: UserWarning: Implicit dimension choice for log_softmax has been deprecated. Change the call to include dim=X as an argument.\n",
      "  return F.log_softmax(x)\n"
     ]
    }
   ],
   "source": [
    "## YOUR CODE HERE ##\n",
    "test_losses_final = []\n",
    "accuracy = 0\n",
    "\n",
    "with torch.no_grad():\n",
    "    model.eval()\n",
    "    for batch_id, (data, target) in enumerate(testloader):\n",
    "        #forward pass\n",
    "        data = data.cuda()\n",
    "        target = target.cuda()\n",
    "\n",
    "        y_pred_test = model.forward(data)\n",
    "        test_loss += criterion(y_pred_test, target).item()\n",
    "\n",
    "        y_pred_test = torch.exp(y_pred_test)\n",
    "        top_p, top_class = y_pred_test.topk(1, dim=1)\n",
    "        equals = top_class == target.view(*top_class.shape)\n",
    "        accuracy += torch.mean(equals.type(torch.FloatTensor))"
   ]
  },
  {
   "cell_type": "code",
   "execution_count": 93,
   "metadata": {},
   "outputs": [
    {
     "data": {
      "text/plain": [
       "0.6533638535031847"
      ]
     },
     "execution_count": 93,
     "metadata": {},
     "output_type": "execute_result"
    }
   ],
   "source": [
    "accuracy.item() / len(testloader)"
   ]
  },
  {
   "cell_type": "markdown",
   "metadata": {},
   "source": [
    "## Saving your model\n",
    "Using `torch.save`, save your model for future loading."
   ]
  },
  {
   "cell_type": "code",
   "execution_count": 97,
   "metadata": {},
   "outputs": [],
   "source": [
    "## YOUR CODE HERE ##\n",
    "torch.save(model.state_dict(), \"checkpoint.pth\")"
   ]
  },
  {
   "cell_type": "markdown",
   "metadata": {},
   "source": [
    "## Make a Recommendation\n",
    "\n",
    "Based on your evaluation, what is your recommendation on whether to build or buy? Explain your reasoning below."
   ]
  },
  {
   "cell_type": "markdown",
   "metadata": {},
   "source": [
    "As stated in the introduction, the company Detectocorp's algorithm is reaching a 70% accuracy rate on the CIFAR-10 dataset. <br>\n",
    "The task was to investigate if it's possible to create an inhouse algorithm performing at least as well as this algorithm provided from Detectocorp.<br>\n",
    "\n",
    "Within this buy or make analysis, we developed a CNN Classifier trained on the CIFAR-10 Dataset and as a result we reached an accuracy rate of around 65 %. It should be noticed that this development has been a simple proof of concept to challenge the algorithm of Detectocorp to support the  \"Build or Buy decision\". <br>\n",
    "\n",
    "In summary, with a quite effortless setup we could reach a performance of around 65 % and we are confident to either fine-tune the architecture of the proof of concept CNN or the hyperparameter of the model to beat the performance of Detectocorp.<br>\n",
    "<br>\n",
    "So, we advise to build the algorithm ourselves."
   ]
  }
 ],
 "metadata": {
  "kernelspec": {
   "display_name": "Python 3",
   "language": "python",
   "name": "python3"
  },
  "language_info": {
   "codemirror_mode": {
    "name": "ipython",
    "version": 3
   },
   "file_extension": ".py",
   "mimetype": "text/x-python",
   "name": "python",
   "nbconvert_exporter": "python",
   "pygments_lexer": "ipython3",
   "version": "3.8.0"
  }
 },
 "nbformat": 4,
 "nbformat_minor": 4
}
